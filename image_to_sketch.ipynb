{
 "cells": [
  {
   "cell_type": "code",
   "execution_count": 6,
   "metadata": {},
   "outputs": [
    {
     "data": {
      "text/plain": [
       "True"
      ]
     },
     "execution_count": 6,
     "metadata": {},
     "output_type": "execute_result"
    }
   ],
   "source": [
    "import cv2\n",
    "image = cv2.imread(\"image1.png\")\n",
    "gray_image = cv2.cvtColor(image, cv2.COLOR_BGR2GRAY)\n",
    "inverted = 255-gray_image\n",
    "blur = cv2.GaussianBlur(inverted, (71, 71), 0)\n",
    "invertedblur = 255-blur\n",
    "sketch = cv2.divide(gray_image, invertedblur, scale=256.0)\n",
    "cv2.imwrite(\"sketch1.png\", sketch)"
   ]
  }
 ],
 "metadata": {
  "kernelspec": {
   "display_name": "Python 3.10.5 64-bit",
   "language": "python",
   "name": "python3"
  },
  "language_info": {
   "codemirror_mode": {
    "name": "ipython",
    "version": 3
   },
   "file_extension": ".py",
   "mimetype": "text/x-python",
   "name": "python",
   "nbconvert_exporter": "python",
   "pygments_lexer": "ipython3",
   "version": "3.10.5"
  },
  "orig_nbformat": 4,
  "vscode": {
   "interpreter": {
    "hash": "d905744c28536cd11da8c758e96462fdb93ef6b8e0526913cfd8b007abe5e1a6"
   }
  }
 },
 "nbformat": 4,
 "nbformat_minor": 2
}
