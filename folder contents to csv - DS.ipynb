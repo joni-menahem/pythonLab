{
 "cells": [
  {
   "cell_type": "markdown",
   "metadata": {},
   "source": [
    "create csv file with the following columns:\n",
    "\n",
    "Filename, Description, Keywords, Categories, Mature content, Editorial"
   ]
  },
  {
   "cell_type": "code",
   "execution_count": 7,
   "metadata": {},
   "outputs": [
    {
     "name": "stdout",
     "output_type": "stream",
     "text": [
      "['5ml 8ml  Portable Mini Refillable Perfume Bottle With Spray Scent Pum (46).jpg', '5ml 8ml  Portable Mini Refillable Perfume Bottle With Spray Scent Pum (47).jpg', '5ml 8ml  Portable Mini Refillable Perfume Bottle With Spray Scent Pum (48).jpg', '5ml 8ml  Portable Mini Refillable Perfume Bottle With Spray Scent Pump (3).jpg', '5ml 8ml  Portable Mini Refillable Perfume Bottle With Spray Scent Pump (4).jpg', '60-90-ml-portable-silicone-refillable-bot_main-0.jpeg', 'A Luggage cover_thick-elastic-world-map-luggage-protecti_variants-0.jpg', 'A3 Luggage cover_thick-elastic-world-map-luggage-protecti_variants-7.jpg', 'A4 Luggage cover_thick-elastic-world-map-luggage-protecti_variants-8.jpg', 'A5 Luggage cover_thick-elastic-world-map-luggage-protecti_variants-11.jpg', 'A6 Luggage cover_thick-elastic-world-map-luggage-protecti_variants-10.jpg', 'B1 Luggage cover_thick-elastic-world-map-luggage-protecti_variants-1.jpg', 'Blue-60ml_60-90-ml-portable-silicone-refillable-bot_variants-0.jpeg', 'C Luggage cover_thick-elastic-world-map-luggage-protecti_variants-2.jpg', 'D Luggage cover_thick-elastic-world-map-luggage-protecti_variants-3.jpg', 'E Luggage cover_thick-elastic-world-map-luggage-protecti_variants-4.jpg', 'F Luggage cover_thick-elastic-world-map-luggage-protecti_variants-5.jpg', 'Family Passport Example.mp4', 'Family Passport Usage Video.mp4', 'G Luggage cover_thick-elastic-world-map-luggage-protecti_variants-6.jpg', 'Gray White-60ml_60-90-ml-portable-silicone-refillable-bot_variants-2.jpeg', 'Green-60ml_60-90-ml-portable-silicone-refillable-bot_variants-4.jpeg', 'Grey-60ml_60-90-ml-portable-silicone-refillable-bot_variants-6.jpeg', 'H Luggage cover_thick-elastic-world-map-luggage-protecti_variants-9.jpg', 'Hot Travel Wallet Family Passport Holder Creative Waterproof Document C (1).jpg', 'Hot Travel Wallet Family Passport Holder Creative Waterproof Document C (10).jpg', 'Hot Travel Wallet Family Passport Holder Creative Waterproof Document C (11).jpg', 'Hot Travel Wallet Family Passport Holder Creative Waterproof Document C (12).jpg', 'Hot Travel Wallet Family Passport Holder Creative Waterproof Document C (13).jpg', 'Hot Travel Wallet Family Passport Holder Creative Waterproof Document C (14).jpg', 'Hot Travel Wallet Family Passport Holder Creative Waterproof Document C (15).jpg', 'Hot Travel Wallet Family Passport Holder Creative Waterproof Document C (16).jpg', 'Hot Travel Wallet Family Passport Holder Creative Waterproof Document C (2).jpg', 'Hot Travel Wallet Family Passport Holder Creative Waterproof Document C (3).jpg', 'Hot Travel Wallet Family Passport Holder Creative Waterproof Document C (4).jpg', 'Hot Travel Wallet Family Passport Holder Creative Waterproof Document C (5).jpg', 'Hot Travel Wallet Family Passport Holder Creative Waterproof Document C (6).jpg', 'Hot Travel Wallet Family Passport Holder Creative Waterproof Document C (7).jpg', 'Hot Travel Wallet Family Passport Holder Creative Waterproof Document C (8).jpg', 'Hot Travel Wallet Family Passport Holder Creative Waterproof Document C (9).jpg', 'Hot Travel Wallet Family Passport Holder Creative Waterproof Document Case .jpg', 'I Luggage cover_thick-elastic-world-map-luggage-protecti_variants-12.jpg', 'J Luggage cover_thick-elastic-world-map-luggage-protecti_variants-13.jpg', 'K Luggage cover_thick-elastic-world-map-luggage-protecti_variants-14.jpg', 'L Luggage cover_thick-elastic-world-map-luggage-protecti_variants-15.jpg', 'Luggage Large Example.mp4', 'Luggage Small Example.mp4', 'Luggage Usage Video 2.mp4', 'Luggage Usage Video.mp4', 'M Luggage cover_thick-elastic-world-map-luggage-protecti_variants-16.jpg', 'Mini Refilable Perfume Bottle Example.mp4', 'Mini Refilable Perfume Bottle Usage.mp4', 'N Luggage cover_thick-elastic-world-map-luggage-protecti_variants-17.jpg', 'O Luggage cover_thick-elastic-world-map-luggage-protecti_variants-18.jpg', 'P Luggage cover_thick-elastic-world-map-luggage-protecti_variants-19.jpg', 'P3 Luggage cover_thick-elastic-world-map-luggage-protecti_variants-23.jpg', 'P4 Luggage cover_thick-elastic-world-map-luggage-protecti_variants-22.jpg', 'P5 Luggage cover_thick-elastic-world-map-luggage-protecti_variants-21.jpg', 'P6 Luggage cover_thick-elastic-world-map-luggage-protecti_variants-20.jpg', 'Portable Silicone Refillable Bottle Usage.mp4', 'White-60ml_60-90-ml-portable-silicone-refillable-bot_variants-8.jpeg']\n"
     ]
    }
   ],
   "source": [
    "import os\n",
    "\n",
    "# folder path\n",
    "dir_path = r'C:\\Users\\yonat\\OneDrive\\Dropshipping Store\\Products\\TikTok\\Uploads'\n",
    "\n",
    "# list to store files\n",
    "res = []\n",
    "# Iterate directory\n",
    "for file in os.listdir(dir_path):\n",
    "    # check only text files\n",
    "    if file.endswith('.jpg') or file.endswith('.mp4') or file.endswith('.jpeg'):\n",
    "        # file = file.replace(\" \", \"-\")\n",
    "        # res.append('https://travelmode.store/wp-content/uploads/2022/09/'+ file)\n",
    "        res.append(file)\n",
    "print(res)"
   ]
  },
  {
   "cell_type": "code",
   "execution_count": 8,
   "metadata": {},
   "outputs": [],
   "source": [
    "import pandas as pd\n",
    "\n",
    "columns = ['Filename']\n",
    "\n",
    "df = pd.DataFrame(columns=columns)\n",
    "\n",
    "df['Filename'] = res"
   ]
  },
  {
   "cell_type": "code",
   "execution_count": 9,
   "metadata": {},
   "outputs": [
    {
     "data": {
      "text/html": [
       "<div>\n",
       "<style scoped>\n",
       "    .dataframe tbody tr th:only-of-type {\n",
       "        vertical-align: middle;\n",
       "    }\n",
       "\n",
       "    .dataframe tbody tr th {\n",
       "        vertical-align: top;\n",
       "    }\n",
       "\n",
       "    .dataframe thead th {\n",
       "        text-align: right;\n",
       "    }\n",
       "</style>\n",
       "<table border=\"1\" class=\"dataframe\">\n",
       "  <thead>\n",
       "    <tr style=\"text-align: right;\">\n",
       "      <th></th>\n",
       "      <th>Filename</th>\n",
       "    </tr>\n",
       "  </thead>\n",
       "  <tbody>\n",
       "    <tr>\n",
       "      <th>0</th>\n",
       "      <td>5ml 8ml  Portable Mini Refillable Perfume Bott...</td>\n",
       "    </tr>\n",
       "    <tr>\n",
       "      <th>1</th>\n",
       "      <td>5ml 8ml  Portable Mini Refillable Perfume Bott...</td>\n",
       "    </tr>\n",
       "    <tr>\n",
       "      <th>2</th>\n",
       "      <td>5ml 8ml  Portable Mini Refillable Perfume Bott...</td>\n",
       "    </tr>\n",
       "    <tr>\n",
       "      <th>3</th>\n",
       "      <td>5ml 8ml  Portable Mini Refillable Perfume Bott...</td>\n",
       "    </tr>\n",
       "    <tr>\n",
       "      <th>4</th>\n",
       "      <td>5ml 8ml  Portable Mini Refillable Perfume Bott...</td>\n",
       "    </tr>\n",
       "    <tr>\n",
       "      <th>...</th>\n",
       "      <td>...</td>\n",
       "    </tr>\n",
       "    <tr>\n",
       "      <th>56</th>\n",
       "      <td>P4 Luggage cover_thick-elastic-world-map-lugga...</td>\n",
       "    </tr>\n",
       "    <tr>\n",
       "      <th>57</th>\n",
       "      <td>P5 Luggage cover_thick-elastic-world-map-lugga...</td>\n",
       "    </tr>\n",
       "    <tr>\n",
       "      <th>58</th>\n",
       "      <td>P6 Luggage cover_thick-elastic-world-map-lugga...</td>\n",
       "    </tr>\n",
       "    <tr>\n",
       "      <th>59</th>\n",
       "      <td>Portable Silicone Refillable Bottle Usage.mp4</td>\n",
       "    </tr>\n",
       "    <tr>\n",
       "      <th>60</th>\n",
       "      <td>White-60ml_60-90-ml-portable-silicone-refillab...</td>\n",
       "    </tr>\n",
       "  </tbody>\n",
       "</table>\n",
       "<p>61 rows × 1 columns</p>\n",
       "</div>"
      ],
      "text/plain": [
       "                                             Filename\n",
       "0   5ml 8ml  Portable Mini Refillable Perfume Bott...\n",
       "1   5ml 8ml  Portable Mini Refillable Perfume Bott...\n",
       "2   5ml 8ml  Portable Mini Refillable Perfume Bott...\n",
       "3   5ml 8ml  Portable Mini Refillable Perfume Bott...\n",
       "4   5ml 8ml  Portable Mini Refillable Perfume Bott...\n",
       "..                                                ...\n",
       "56  P4 Luggage cover_thick-elastic-world-map-lugga...\n",
       "57  P5 Luggage cover_thick-elastic-world-map-lugga...\n",
       "58  P6 Luggage cover_thick-elastic-world-map-lugga...\n",
       "59      Portable Silicone Refillable Bottle Usage.mp4\n",
       "60  White-60ml_60-90-ml-portable-silicone-refillab...\n",
       "\n",
       "[61 rows x 1 columns]"
      ]
     },
     "execution_count": 9,
     "metadata": {},
     "output_type": "execute_result"
    }
   ],
   "source": [
    "save_file = dir_path + r'\\details.csv'\n",
    "df.to_csv(save_file, index=False)\n",
    "df"
   ]
  }
 ],
 "metadata": {
  "kernelspec": {
   "display_name": "Python 3.10.5 64-bit",
   "language": "python",
   "name": "python3"
  },
  "language_info": {
   "codemirror_mode": {
    "name": "ipython",
    "version": 3
   },
   "file_extension": ".py",
   "mimetype": "text/x-python",
   "name": "python",
   "nbconvert_exporter": "python",
   "pygments_lexer": "ipython3",
   "version": "3.10.5"
  },
  "orig_nbformat": 4,
  "vscode": {
   "interpreter": {
    "hash": "d905744c28536cd11da8c758e96462fdb93ef6b8e0526913cfd8b007abe5e1a6"
   }
  }
 },
 "nbformat": 4,
 "nbformat_minor": 2
}
